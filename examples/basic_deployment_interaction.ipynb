{
 "cells": [
  {
   "cell_type": "markdown",
   "metadata": {},
   "source": [
    "# Basic Deployment Interaction"
   ]
  },
  {
   "cell_type": "markdown",
   "metadata": {},
   "source": [
    "## Import Functions"
   ]
  },
  {
   "cell_type": "code",
   "execution_count": 2,
   "metadata": {},
   "outputs": [],
   "source": [
    "import os\n",
    "\n",
    "from kubecustom.kubecustom import (\n",
    "    create_secret_deployment, \n",
    "    delete_secret_deployment,\n",
    ")\n",
    "from kubecustom.deployment import (\n",
    "    utilization_per_deployment, \n",
    "    scale_deployment,\n",
    ")\n",
    "from kubecustom.pod import (\n",
    "    get_pods_resource_info, \n",
    "    print_pods_summary, \n",
    "    get_active_tasks, \n",
    "    delete_pods_by_status,\n",
    ")\n",
    "\n",
    "from kubecustom import MyData\n",
    "MyDataInstance = MyData()\n",
    "user = MyDataInstance.get_user()"
   ]
  },
  {
   "cell_type": "markdown",
   "metadata": {},
   "source": [
    "## Check Active Tasks in Pods"
   ]
  },
  {
   "cell_type": "code",
   "execution_count": 3,
   "metadata": {},
   "outputs": [
    {
     "name": "stderr",
     "output_type": "stream",
     "text": [
      "/Users/jenniferclark/.local/share/mamba/envs/qca/lib/python3.11/site-packages/urllib3/connectionpool.py:1097: InsecureRequestWarning: Unverified HTTPS request is being made to host 'cilogon.org'. Adding certificate verification is strongly advised. See: https://urllib3.readthedocs.io/en/latest/advanced-usage.html#tls-warnings\n",
      "  warnings.warn(\n"
     ]
    },
    {
     "name": "stdout",
     "output_type": "stream",
     "text": [
      "Pod Name,\t\t\t\tRestart Count,\tMemory,\tCPUs,\t|\tCurrent State,\tCurrent Status,\t|\tPrevious State,\tPrevious Status\n",
      "openff-qca-qm-jac-pyddx-600-6cf5cf797c-462kx,\t20,\t13.2,\t10.9\t|\trunning,\tRunning,\t|\tterminated,\tOOMKilled\n",
      "openff-qca-qm-jac-pyddx-600-6cf5cf797c-6gff7,\t1,\t15.0,\t11.3\t|\trunning,\tRunning,\t|\tterminated,\tError\n",
      "openff-qca-qm-jac-pyddx-600-6cf5cf797c-9bgsm,\t0,\t8.4,\t11.3\t|\trunning,\tRunning,\t|\tNone,\tNone\n",
      "openff-qca-qm-jac-pyddx-600-6cf5cf797c-htssf,\t0,\t8.3,\t11.0\t|\trunning,\tRunning,\t|\tNone,\tNone\n",
      "openff-qca-qm-jac-pyddx-600-6cf5cf797c-kwlvx,\t28,\t34.9,\t6.0\t|\trunning,\tRunning,\t|\tterminated,\tOOMKilled\n",
      "openff-qca-qm-jac-pyddx-600-6cf5cf797c-nbk7d,\t0,\t11.2,\t10.8\t|\trunning,\tRunning,\t|\tNone,\tNone\n",
      "openff-qca-qm-jac-pyddx-600-6cf5cf797c-pcv67,\t0,\t11.4,\t12.3\t|\trunning,\tRunning,\t|\tNone,\tNone\n",
      "openff-qca-qm-jac-pyddx-600-6cf5cf797c-q287c,\t1,\t16.9,\t11.5\t|\trunning,\tRunning,\t|\tterminated,\tOOMKilled\n",
      "openff-qca-qm-jac-pyddx-600-6cf5cf797c-wshwz,\t7,\t15.1,\t5.0\t|\trunning,\tRunning,\t|\tterminated,\tOOMKilled\n",
      "openff-qca-qm-jac-pyddx-600-6cf5cf797c-wvj5q,\t16,\t35.4,\t11.6\t|\trunning,\tRunning,\t|\tterminated,\tOOMKilled\n"
     ]
    }
   ],
   "source": [
    "path = \"/Users/jenniferclark/OMSF/OpenFF/NRP/2_running/394_pyddx-600\"\n",
    "tag, cpus, mem = \"pyddx-600\", 16, 32\n",
    "deployment_name = f\"{user}-{tag}\"\n",
    "\n",
    "#create_secret_deployment(path, tag, cpus, mem, replicas=1)\n",
    "#delete_secret_deployment(deployment_name)\n",
    "#scale_deployment(deployment_name, 10)\n",
    "#get_pods_resource_info(verbose=True, keep_key=tag);\n",
    "print_pods_summary(deployment_name=deployment_name)\n",
    "#get_active_tasks(get_pod_list(deployment_name=deployment_name));\n",
    "#delete_pods_by_status(\"ContainerCreating\")"
   ]
  },
  {
   "cell_type": "markdown",
   "metadata": {},
   "source": [
    "## Get Pod CPU and Memory Usage"
   ]
  },
  {
   "cell_type": "code",
   "execution_count": 4,
   "metadata": {},
   "outputs": [
    {
     "name": "stdout",
     "output_type": "stream",
     "text": [
      "Dep Name, Nreplicas, |  Avg Mem Ut%, Min Mem Ut%, Max Mem Ut%, Mem Req, |  Avg CPU Ut%, Min CPU Ut%, Max CPU Ut%, CPU Req\n",
      "_____________________________________________________________________________\n",
      "openff-qca-qm-jac-pyddx-600\t10\t|\t55.9\t26.3\t131.9\t32.0\t|\t61.5\t31.2\t77.0\t16.0\n",
      "\n",
      "\n"
     ]
    }
   ],
   "source": [
    "output = utilization_per_deployment(namespace=\"openforcefield\", verbose=True,) # keep_key=\"pyddx\")\n",
    "# When containers are \"waiting\" their resources aren't counted... this means this plot shows higher utilizaiton than grafana"
   ]
  }
 ],
 "metadata": {
  "kernelspec": {
   "display_name": "Python 3",
   "language": "python",
   "name": "python3"
  },
  "language_info": {
   "codemirror_mode": {
    "name": "ipython",
    "version": 3
   },
   "file_extension": ".py",
   "mimetype": "text/x-python",
   "name": "python",
   "nbconvert_exporter": "python",
   "pygments_lexer": "ipython3",
   "version": "3.11.11"
  }
 },
 "nbformat": 4,
 "nbformat_minor": 2
}
